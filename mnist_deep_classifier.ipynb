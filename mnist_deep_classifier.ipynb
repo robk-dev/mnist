{
 "cells": [
  {
   "cell_type": "code",
   "execution_count": 1,
   "metadata": {},
   "outputs": [],
   "source": [
    "import tensorflow as tf\n",
    "import matplotlib.pyplot as plt\n",
    "\n",
    "\n",
    "mnist = tf.keras.datasets.mnist # db with images of handwritten digits [28x28] pixels\n",
    "\n",
    "(X_train, y_train), (X_test, y_test) = mnist.load_data()"
   ]
  },
  {
   "cell_type": "code",
   "execution_count": 2,
   "metadata": {},
   "outputs": [],
   "source": [
    "%matplotlib inline"
   ]
  },
  {
   "cell_type": "code",
   "execution_count": 3,
   "metadata": {},
   "outputs": [
    {
     "data": {
      "text/plain": [
       "<matplotlib.image.AxesImage at 0x1fb22864470>"
      ]
     },
     "execution_count": 3,
     "metadata": {},
     "output_type": "execute_result"
    },
    {
     "data": {
      "image/png": "[encoded data removed]",
      "text/plain": [
       "<Figure size 432x288 with 1 Axes>"
      ]
     },
     "metadata": {
      "needs_background": "light"
     },
     "output_type": "display_data"
    }
   ],
   "source": [
    "plt.imshow(X_train[0], cmap = plt.cm.binary)\n",
    "\n",
    "# print(X_train[0])"
   ]
  },
  {
   "cell_type": "code",
   "execution_count": 4,
   "metadata": {},
   "outputs": [],
   "source": [
    "# normalize values\n",
    "X_train = tf.keras.utils.normalize(X_train, axis=1)\n",
    "X_test = tf.keras.utils.normalize(X_test, axis=1)"
   ]
  },
  {
   "cell_type": "code",
   "execution_count": 5,
   "metadata": {},
   "outputs": [
    {
     "name": "stdout",
     "output_type": "stream",
     "text": [
      "Epoch 1/9\n",
      "1875/1875 [==============================] - 2s 822us/step - loss: 0.2527 - accuracy: 0.9250\n",
      "Epoch 2/9\n",
      "1875/1875 [==============================] - 2s 830us/step - loss: 0.1032 - accuracy: 0.9682\n",
      "Epoch 3/9\n",
      "1875/1875 [==============================] - 2s 862us/step - loss: 0.0697 - accuracy: 0.9778\n",
      "Epoch 4/9\n",
      "1875/1875 [==============================] - 2s 838us/step - loss: 0.0516 - accuracy: 0.9834\n",
      "Epoch 5/9\n",
      "1875/1875 [==============================] - 2s 846us/step - loss: 0.0393 - accuracy: 0.9873\n",
      "Epoch 6/9\n",
      "1875/1875 [==============================] - 2s 870us/step - loss: 0.0327 - accuracy: 0.9892\n",
      "Epoch 7/9\n",
      "1875/1875 [==============================] - 2s 904us/step - loss: 0.0244 - accuracy: 0.9921\n",
      "Epoch 8/9\n",
      "1875/1875 [==============================] - 2s 837us/step - loss: 0.0216 - accuracy: 0.9926\n",
      "Epoch 9/9\n",
      "1875/1875 [==============================] - 2s 877us/step - loss: 0.0163 - accuracy: 0.9943\n"
     ]
    },
    {
     "data": {
      "text/plain": [
       "<tensorflow.python.keras.callbacks.History at 0x1fb1d927ac8>"
      ]
     },
     "execution_count": 5,
     "metadata": {},
     "output_type": "execute_result"
    }
   ],
   "source": [
    "# model/architecture\n",
    "model = tf.keras.models.Sequential()\n",
    "model.add(tf.keras.layers.Flatten())\n",
    "model.add(tf.keras.layers.Dense(128, activation=tf.nn.relu))\n",
    "model.add(tf.keras.layers.Dense(128, activation=tf.nn.relu))\n",
    "model.add(tf.keras.layers.Dense(10, activation=tf.nn.softmax))\n",
    "\n",
    "model.compile(optimizer='adam',\n",
    "             loss='sparse_categorical_crossentropy',\n",
    "             metrics=['accuracy'])\n",
    "\n",
    "model.fit(X_train, y_train, epochs=9)"
   ]
  },
  {
   "cell_type": "code",
   "execution_count": 6,
   "metadata": {},
   "outputs": [
    {
     "name": "stdout",
     "output_type": "stream",
     "text": [
      "313/313 [==============================] - 0s 507us/step - loss: 0.1096 - accuracy: 0.9741\n",
      "0.1096160039305687 0.9740999937057495\n"
     ]
    }
   ],
   "source": [
    "val_loss, val_acc = model.evaluate(X_test, y_test)\n",
    "print(val_loss, val_acc)"
   ]
  },
  {
   "cell_type": "code",
   "execution_count": 7,
   "metadata": {},
   "outputs": [
    {
     "name": "stdout",
     "output_type": "stream",
     "text": [
      "[[3.89701140e-15 3.13270330e-12 5.22433332e-08 ... 9.99999523e-01\n",
      "  1.61127556e-10 6.84862278e-10]\n",
      " [6.58258751e-19 1.38637217e-08 1.00000000e+00 ... 1.92968293e-16\n",
      "  5.72909842e-18 6.09984191e-28]\n",
      " [8.41207665e-14 9.99998689e-01 2.14355825e-11 ... 5.74393475e-08\n",
      "  5.54857365e-07 2.02934761e-12]\n",
      " ...\n",
      " [7.92126683e-17 5.06791986e-09 1.15316163e-13 ... 7.47119522e-09\n",
      "  3.80285101e-08 1.15010698e-06]\n",
      " [3.84843242e-12 1.78268456e-10 6.80278545e-15 ... 5.59733737e-14\n",
      "  2.21832379e-05 1.22971195e-15]\n",
      " [2.22904936e-14 1.49311596e-12 3.15057794e-13 ... 1.11394054e-20\n",
      "  6.24297109e-13 5.58925526e-19]]\n"
     ]
    }
   ],
   "source": [
    "predictions = model.predict(X_test)\n",
    "print(predictions)"
   ]
  },
  {
   "cell_type": "code",
   "execution_count": 8,
   "metadata": {},
   "outputs": [],
   "source": [
    "#save model\n",
    "model.save('mnist-deep-classifier.h5')"
   ]
  },
  {
   "cell_type": "code",
   "execution_count": 9,
   "metadata": {},
   "outputs": [],
   "source": [
    "# load model\n",
    "same_model = tf.keras.models.load_model('mnist-deep-classifier.h5')"
   ]
  },
  {
   "cell_type": "code",
   "execution_count": 10,
   "metadata": {},
   "outputs": [
    {
     "name": "stdout",
     "output_type": "stream",
     "text": [
      "7\n"
     ]
    }
   ],
   "source": [
    "import numpy as np\n",
    "\n",
    "print(np.argmax(predictions[0]))"
   ]
  },
  {
   "cell_type": "code",
   "execution_count": 11,
   "metadata": {},
   "outputs": [
    {
     "data": {
      "text/plain": [
       "<matplotlib.image.AxesImage at 0x1fb200036d8>"
      ]
     },
     "execution_count": 11,
     "metadata": {},
     "output_type": "execute_result"
    },
    {
     "data": {
      "image/png": "[encoded data removed]",
      "text/plain": [
       "<Figure size 432x288 with 1 Axes>"
      ]
     },
     "metadata": {
      "needs_background": "light"
     },
     "output_type": "display_data"
    }
   ],
   "source": [
    "plt.imshow(X_test[0], cmap = plt.cm.binary)"
   ]
  },
  {
   "cell_type": "code",
   "execution_count": 12,
   "metadata": {},
   "outputs": [
    {
     "name": "stdout",
     "output_type": "stream",
     "text": [
      "7\n"
     ]
    }
   ],
   "source": [
    "predictions2 = same_model.predict(X_test)\n",
    "print(np.argmax(predictions2[0]))"
   ]
  }
 ],
 "metadata": {
  "kernelspec": {
   "display_name": "Python 3",
   "language": "python",
   "name": "python3"
  },
  "language_info": {
   "codemirror_mode": {
    "name": "ipython",
    "version": 3
   },
   "file_extension": ".py",
   "mimetype": "text/x-python",
   "name": "python",
   "nbconvert_exporter": "python",
   "pygments_lexer": "ipython3",
   "version": "3.7.0"
  }
 },
 "nbformat": 4,
 "nbformat_minor": 4
}